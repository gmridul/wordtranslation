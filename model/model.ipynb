{
 "cells": [
  {
   "cell_type": "code",
   "execution_count": 6,
   "metadata": {
    "collapsed": true
   },
   "outputs": [],
   "source": [
    "import tensorflow as tf\n",
    "import numpy as np"
   ]
  },
  {
   "cell_type": "code",
   "execution_count": 8,
   "metadata": {
    "collapsed": false
   },
   "outputs": [],
   "source": [
    "class model(object):\n",
    "    \n",
    "    def __init__(self, ckpt_path, lr, epochs=1000, dim_lang=5, model_name=\"MLPM\"):\n",
    "        self.epochs = epochs\n",
    "        self.ckpt_path = ckpt_path\n",
    "        self.model_name = model_name\n",
    "        self.lr = lr\n",
    "        self.dim_lang = dim_lang\n",
    "        \n",
    "        self.all_lang_rep = dict()\n",
    "        \n",
    "        for lang in [\"en\", \"pt\", \"es\"]:\n",
    "            self.all_lang_rep[lang] = tf.Variable(tf.truncated_normal([1,dim_lang]),\\\n",
    "                                               stddev=1/tf.sqrt(dim_lang), name='lang_encoder'+lang)\n",
    "        \n",
    "        def __graph__():\n",
    "            tf.reset_default_graph()\n",
    "            self.graph = tf.Graph()\n",
    "            with self.graph.as_default():\n",
    "                \n",
    "                # source and target vector representation\n",
    "                self.source_words = tf.placeholder(tf.float32, shape=[None, 300])\n",
    "                self.target_words = tf.placeholder(tf.float32, shape=[None, 300])\n",
    "                \n",
    "                # parameter matrices\n",
    "                self.encoder = tf.Variable(tf.truncated_normal([300, 300]),\\\n",
    "                                           stddev=1/tf.sqrt(300.0), name='encoder')\n",
    "                self.decoder = tf.Variable(tf.truncated_normal([300, 300]),\\\n",
    "                                           stddev=1/tf.sqrt(300.0), name='decoder')\n",
    "                \n",
    "                self.lang_encoder = tf.Variable(tf.truncated_normal([2*lang_dim,300]),\\\n",
    "                                               stddev=1/tf.sqrt(300), name='lang_encoder')\n",
    "\n",
    "                # language representation\n",
    "                self.lang_rep = tf.Variable(tf.truncated_normal([1,2*self.dim_lang]),\\\n",
    "                                            stddev=1/tf.sqrt(self.dim_lang), name='lang_rep')\n",
    "                \n",
    "                # model equation\n",
    "                self.target_pred = self.get_model(self.encoder, self.decoder, self.source_words,\\\n",
    "                                                  self.lang_rep, self.lang_encoder)\n",
    "                \n",
    "                #squared loss\n",
    "                self.loss = tf.reduce_sum(tf.square(self.target_words-self.target_pred))\n",
    "                \n",
    "                self.train_step = tf.train.GradientDescentOptimizer(self.lr).minimize(self.loss)\n",
    "                \n",
    "                self.init = tf.global_variables_initializer()\n",
    "                self.saver = tf.train.Saver()\n",
    "        \n",
    "        print('start building graph')\n",
    "        __graph__()\n",
    "        print('graph built')\n",
    "        \n",
    "    # encoder, decoder: 300x300   source_words: Nonex300    lang_rep: 1x2*dim_lang    lang_encoder: 2*dim_langx300\n",
    "    # Output: Nonex300\n",
    "    def get_model(self, encoder, decoder, source_words, lang_rep, lang_encoder):\n",
    "        shared_source_words = tf.matmul(source_words, encoder)\n",
    "        shared_lang_rep = tf.matmul(lang_rep, lang_encoder)\n",
    "        \n",
    "        num_examples = tf.shape(shared_source_words)[0]\n",
    "        \n",
    "        shared_lang_aux = tf.reshape(tf.tile(shared_lang_rep, [num_examples]), [num_examples, 300])\n",
    "        shared_embedding_vector = shared_lang_rep+shared_lang_aux\n",
    "        \n",
    "        return tf.matmul(shared_embedding_vector, decoder)\n",
    "    \n",
    "    def get_feed(self, X, Y, src_lang, dest_lang):\n",
    "        feed_dict = {self.source_words: X, self.target_words: Y}\n",
    "        self.lang_rep = tf.concat([self.all_lang_rep[src_lang], self.all_lang_rep[dest_lang]], axis=1)\n",
    "        return feed_dict\n",
    "    \n",
    "    #train -> train[en_pt]\n",
    "    def train(self, train, train_lang_pairs, batch_size, validation, num_epochs=10, sess=None):\n",
    "        if sess == None:\n",
    "            sess = tf.Session(graph = self.graph)\n",
    "            sess.run(self.init)\n",
    "        \n",
    "        #max data for a language pair/batch size\n",
    "        max_data_size = max([len(x) for x in train])/batch_size\n",
    "    \n",
    "        for epoch in num_epochs:\n",
    "            batch_index = np.zeros(shape=(len(train),1))\n",
    "            for batch_number in range(max_data_size):\n",
    "                #make batches\n",
    "                for lang_pair_data_enum in enumerate(train):\n",
    "                    i, lang_pair_data = lang_pair_data_enum\n",
    "\n",
    "                    cur_batch = lang_pair_data[batch_index[i]:batch_index[i]+batch_size,:]\n",
    "                    batch_index[i] += batch_size\n",
    "\n",
    "                    X = cur_batch[:,0]\n",
    "                    Y = cur_batch[:,1]\n",
    "                    lang = train_lang_pairs[i].split(' ')\n",
    "\n",
    "                    #batch index more that lang pair data length not handled :P\n",
    "                    \n",
    "                    _, train_loss = sess.run([self.train_step, self.loss], self.get_feed(X, Y, lang[0], lang[1]))\n",
    "\n",
    "                    self.all_lang_rep[lang[0]], self.all_lang_rep[lang[1]] = \\\n",
    "                        tf.split(self.lang_rep, 2);\n",
    "                    print(\"Batch:\" + str(batch_number))\n",
    "                    print(\"Loss:\" + str(train_loss))\n",
    "                    print(lang)\n",
    "                    print(\"------------------------------\")\n",
    "            \n",
    "            #save epoch\n",
    "            if epoch and epoch%10==0:\n",
    "                self.saver.save(sess, self.ckpt_path+self.model_name+\".ckpt\", global_step=epoch)\n",
    "                \n",
    "                #print losses #todo: format for train data with lang\n",
    "        self.saver.save(sess, self.ckpt_path+self.model_name+\".ckpt\", global_step=num_epochs+1)\n",
    "        np.savetxt()\n",
    "\n"
   ]
  },
  {
   "cell_type": "code",
   "execution_count": 5,
   "metadata": {
    "collapsed": false
   },
   "outputs": [
    {
     "data": {
      "text/plain": [
       "[2, 3, 4]"
      ]
     },
     "execution_count": 5,
     "metadata": {},
     "output_type": "execute_result"
    }
   ],
   "source": [
    "a=[1,2,3,4]\n",
    "a[1:7]"
   ]
  },
  {
   "cell_type": "code",
   "execution_count": null,
   "metadata": {
    "collapsed": true
   },
   "outputs": [],
   "source": []
  }
 ],
 "metadata": {
  "kernelspec": {
   "display_name": "Python 3",
   "language": "python",
   "name": "python3"
  },
  "language_info": {
   "codemirror_mode": {
    "name": "ipython",
    "version": 3
   },
   "file_extension": ".py",
   "mimetype": "text/x-python",
   "name": "python",
   "nbconvert_exporter": "python",
   "pygments_lexer": "ipython3",
   "version": "3.5.2"
  }
 },
 "nbformat": 4,
 "nbformat_minor": 2
}
