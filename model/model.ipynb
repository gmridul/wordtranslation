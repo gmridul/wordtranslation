{
 "cells": [
  {
   "cell_type": "code",
   "execution_count": 2,
   "metadata": {
    "collapsed": true
   },
   "outputs": [],
   "source": [
    "import tensorflow as tf\n",
    "import numpy as np"
   ]
  },
  {
   "cell_type": "code",
   "execution_count": null,
   "metadata": {
    "collapsed": true
   },
   "outputs": [],
   "source": [
    "class model(object):\n",
    "    \n",
    "    def __init__(self, ckpt_path, lr, epochs=1000, dim_lang=5, num_lang, model_name=\"MLPM\"):\n",
    "        self.epochs = epochs\n",
    "        self.ckpt_path = ckpt_path\n",
    "        self.model_name = model_name\n",
    "        self.lr = lr\n",
    "        self.dim_lang = dim_lang\n",
    "        self.num_lang = num_lang\n",
    "        \n",
    "        def __graph__():\n",
    "            tf.reset_default_graph()\n",
    "            self.graph = tf.Graph()\n",
    "            with self.graph.as_default():\n",
    "                \n",
    "                # source and target vector representation\n",
    "                self.source_lang = tf.placeholder(tf.float32, shape=[None, 300])\n",
    "                self.target_lang = tf.placeholder(tf.float32, shape=[None, 300])\n",
    "                \n",
    "                # parameter matrices\n",
    "                self.encoder = tf.Variable(tf.truncated_normal([300, 300]),\\\n",
    "                                           stddev=1/tf.sqrt(300.0), name='encoder')\n",
    "                self.decoder = tf.Variable(tf.truncated_normal([300, 300]),\\\n",
    "                                           stddev=1/tf.sqrt(300.0), name='decoder')\n",
    "                \n",
    "                self.lang_encoder = tf.Variable(tf.truncated_normal([2*lang_dim,300]),\\\n",
    "                                               stddev=1/tf.sqrt(300), name='lang_encoder')\n",
    "\n",
    "                # language representation\n",
    "                self.lang_rep = tf.Variable(tf.truncated_normal([1,2*self.dim_lang]),\\\n",
    "                                            stddev=1/tf.sqrt(self.dim_lang), name='lang_rep')\n",
    "                \n",
    "                # model equation\n",
    "                self.target_pred = self.get_model(self.encoder, self.decoder, self.source_lang,\\\n",
    "                                                  self.lang_rep, self.lang_encoder)\n",
    "                \n",
    "                #squared loss\n",
    "                self.loss = tf.reduce_sum(tf.square(self.target_lang-self.target_pred))\n",
    "                \n",
    "                self.train_step = tf.train.GradientDescentOptimizer(self.lr).minimize(self.loss)\n",
    "                \n",
    "                self.init = tf.global_variables_initializer()\n",
    "                self.saver = tf.train.Saver()\n",
    "        \n",
    "        print('start building graph')\n",
    "        __graph__()\n",
    "        print('graph built')\n",
    "        \n",
    "    def get_model(self, encoder, decoder, source_lang, lang_rep, lang_encoder):\n",
    "        shared_source_lang = tf.matmul(source_lang, encoder)\n",
    "        shared_lang_rep = tf.matmul(lang_rep, lang_encoder)\n",
    "        \n",
    "        return y\n",
    "    \n",
    "    def get_feed(self, X, Y):\n",
    "        feed_dict = {self.source_lang: X, self.target_lang: Y}\n",
    "        return feed_dict"
   ]
  }
 ],
 "metadata": {
  "kernelspec": {
   "display_name": "Python 3",
   "language": "python",
   "name": "python3"
  },
  "language_info": {
   "codemirror_mode": {
    "name": "ipython",
    "version": 3
   },
   "file_extension": ".py",
   "mimetype": "text/x-python",
   "name": "python",
   "nbconvert_exporter": "python",
   "pygments_lexer": "ipython3",
   "version": "3.5.2"
  }
 },
 "nbformat": 4,
 "nbformat_minor": 2
}
