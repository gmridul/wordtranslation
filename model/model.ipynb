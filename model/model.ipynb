{
 "cells": [
  {
   "cell_type": "code",
   "execution_count": 1,
   "metadata": {
    "collapsed": true
   },
   "outputs": [],
   "source": [
    "import tensorflow as tf\n",
    "import numpy as np"
   ]
  },
  {
   "cell_type": "code",
   "execution_count": 192,
   "metadata": {},
   "outputs": [],
   "source": [
    "class model(object):\n",
    "    \n",
    "    def __init__(self, ckpt_path, lr, epochs=1000, dim_lang=5, model_name=\"MLPM\"):\n",
    "        self.epochs = epochs\n",
    "        self.ckpt_path = ckpt_path\n",
    "        self.model_name = model_name\n",
    "        self.lr = lr\n",
    "        self.dim_lang = dim_lang\n",
    "        \n",
    "        self.all_lang_rep = dict()\n",
    "        \n",
    "        for lang in [\"en\", \"pt\", \"es\"]:\n",
    "            self.all_lang_rep[lang] = tf.Variable(tf.truncated_normal([1,dim_lang],\\\n",
    "                                               stddev=1/tf.sqrt(float(dim_lang))), name='lang_encoder'+lang)\n",
    "        \n",
    "        def __graph__():\n",
    "            tf.reset_default_graph()\n",
    "            self.graph = tf.Graph()\n",
    "            with self.graph.as_default():\n",
    "                \n",
    "                # source and target vector representation\n",
    "                self.source_words = tf.placeholder(tf.float32, shape=[None, 300])\n",
    "                self.target_words = tf.placeholder(tf.float32, shape=[None, 300])\n",
    "                \n",
    "                # parameter matrices\n",
    "                self.encoder = tf.Variable(tf.truncated_normal([300, 300],\\\n",
    "                                           stddev=1/tf.sqrt(300.0)), name='encoder')\n",
    "                \n",
    "                self.decoder = tf.Variable(tf.truncated_normal([300, 300],\\\n",
    "                                           stddev=1/tf.sqrt(300.0)), name='decoder')\n",
    "                \n",
    "                self.lang_encoder = tf.Variable(tf.truncated_normal([2*dim_lang,300],\\\n",
    "                                               stddev=1/tf.sqrt(300.0)), name='lang_encoder')\n",
    "\n",
    "                # language representation\n",
    "                self.lang_rep = tf.Variable(tf.truncated_normal([1,2*self.dim_lang],\\\n",
    "                                            stddev=1/tf.sqrt(float(self.dim_lang))), name='lang_rep')\n",
    "                \n",
    "                # model equation\n",
    "                self.target_pred = self.get_model(self.encoder, self.decoder, self.source_words,\\\n",
    "                                                  self.lang_rep, self.lang_encoder)\n",
    "                \n",
    "                #squared loss\n",
    "                self.loss = tf.reduce_sum(tf.square(self.target_words-self.target_pred))\n",
    "                \n",
    "                self.train_step = tf.train.GradientDescentOptimizer(self.lr).minimize(self.loss)\n",
    "                \n",
    "                self.init = tf.global_variables_initializer()\n",
    "                self.saver = tf.train.Saver()\n",
    "        \n",
    "        print('start building graph')\n",
    "        __graph__()\n",
    "        print('graph built')\n",
    "        \n",
    "    # encoder, decoder: 300x300   source_words: Nonex300    lang_rep: 1x2*dim_lang    lang_encoder: 2*dim_langx300\n",
    "    # Output: Nonex300\n",
    "    def get_model(self, encoder, decoder, source_words, lang_rep, lang_encoder):\n",
    "        \n",
    "        shared_source_words = tf.matmul(source_words, encoder)\n",
    "        shared_lang_rep = tf.matmul(lang_rep, lang_encoder)\n",
    "        \n",
    "        num_examples = tf.shape(shared_source_words)[0]\n",
    "        #(shared_source_words.get_shape())[0]\n",
    "        tile = tf.tile(shared_lang_rep, tf.convert_to_tensor([1, num_examples]))\n",
    "        shared_lang_aux = tf.reshape(tile, [num_examples, 300])\n",
    "        shared_embedding_vector = shared_lang_rep+shared_lang_aux\n",
    "        \n",
    "        ret = tf.matmul(shared_embedding_vector, decoder)\n",
    "        return ret \n",
    "    \n",
    "    def get_feed(self, X, Y, src_lang, dest_lang):\n",
    "        feed_dict = {self.source_words: X, self.target_words: Y}\n",
    "        self.lang_rep = tf.concat([self.all_lang_rep[src_lang], self.all_lang_rep[dest_lang]], axis=1)\n",
    "        return feed_dict\n",
    "    \n",
    "    #train -> train[en_pt]\n",
    "    def train(self, train, train_lang_pairs, batch_size, validation, num_epochs=10, sess=None):\n",
    "        if sess == None:\n",
    "            sess = tf.Session(graph = self.graph)\n",
    "            sess.run(self.init)\n",
    "         \n",
    "        #max data for a language pair/batch size\n",
    "        max_data_size = int(max([len(x) for x in train])/batch_size)\n",
    "    \n",
    "        for epoch in range(num_epochs):\n",
    "            batch_index = np.zeros(shape=(len(train)), dtype=int)\n",
    "            for batch_number in range(max_data_size):\n",
    "                #make batches\n",
    "                for lang_pair_data_enum in enumerate(train):\n",
    "                    i, lang_pair_data = lang_pair_data_enum\n",
    "                    lang_pair_data = np.array(lang_pair_data)\n",
    "                    print(np.shape(lang_pair_data))\n",
    "                    print(batch_index[i])\n",
    "                    cur_batch = lang_pair_data[batch_index[i]:(batch_index[i]+batch_size),:,:]\n",
    "                    batch_index[i] += batch_size\n",
    "                    print(np.shape(cur_batch))\n",
    "                    X = cur_batch[:,0,:]\n",
    "                    Y = cur_batch[:,1,:]\n",
    "                    print(np.shape(X))\n",
    "                    print(np.shape(Y))\n",
    "                    lang = train_lang_pairs[i].split('-')\n",
    "\n",
    "                    #batch index more that lang pair data length not handled :P\n",
    "                    \n",
    "                    _, train_loss = sess.run([self.train_step, self.loss], self.get_feed(X, Y, lang[0], lang[1]))\n",
    "                    \n",
    "                    \n",
    "                    print (self.lang_rep.eval(session = sess))\n",
    "                        \n",
    "                    print(self.lang_rep.get_shape())\n",
    "                    self.all_lang_rep[lang[0]], self.all_lang_rep[lang[1]] = tf.split(self.lang_rep, 2, axis=1)\n",
    "                    \n",
    "                    print(\"Batch:\" + str(batch_number))\n",
    "                    print(\"Loss:\" + str(train_loss))\n",
    "                    print(lang)\n",
    "                    print(\"------------------------------\")\n",
    "            \n",
    "            #save epoch\n",
    "            if epoch and epoch%10==0:\n",
    "                self.saver.save(sess, self.ckpt_path+self.model_name+\".ckpt\", global_step=epoch)\n",
    "                \n",
    "                #print losses #todo: format for train data with lang\n",
    "        self.saver.save(sess, self.ckpt_path+self.model_name+\".ckpt\", global_step=num_epochs+1)\n",
    "        np.savetxt()\n",
    "\n"
   ]
  },
  {
   "cell_type": "code",
   "execution_count": 193,
   "metadata": {},
   "outputs": [
    {
     "name": "stdout",
     "output_type": "stream",
     "text": [
      "start building graph\n",
      "graph built\n"
     ]
    }
   ],
   "source": [
    "mlpm = model(ckpt_path=\"./ckpt/\",lr=0.01, epochs=1)"
   ]
  },
  {
   "cell_type": "code",
   "execution_count": 194,
   "metadata": {},
   "outputs": [
    {
     "name": "stdout",
     "output_type": "stream",
     "text": [
      "(303, 2, 300)\n",
      "0\n",
      "(40, 2, 300)\n",
      "(40, 300)\n",
      "(40, 300)\n"
     ]
    },
    {
     "ename": "ValueError",
     "evalue": "Cannot use the given session to evaluate tensor: the tensor's graph is different from the session's graph.",
     "output_type": "error",
     "traceback": [
      "\u001b[1;31m---------------------------------------------------------------------------\u001b[0m",
      "\u001b[1;31mValueError\u001b[0m                                Traceback (most recent call last)",
      "\u001b[1;32m<ipython-input-194-1687c7961601>\u001b[0m in \u001b[0;36m<module>\u001b[1;34m()\u001b[0m\n\u001b[1;32m----> 1\u001b[1;33m \u001b[0mmlpm\u001b[0m\u001b[1;33m.\u001b[0m\u001b[0mtrain\u001b[0m\u001b[1;33m(\u001b[0m\u001b[0mtrain_data\u001b[0m\u001b[1;33m,\u001b[0m\u001b[0mtrain_lang_pairs\u001b[0m\u001b[1;33m=\u001b[0m \u001b[1;33m[\u001b[0m\u001b[1;34m\"pt-es\"\u001b[0m\u001b[1;33m,\u001b[0m \u001b[1;34m\"pt-en\"\u001b[0m\u001b[1;33m,\u001b[0m \u001b[1;34m\"en-es\"\u001b[0m\u001b[1;33m]\u001b[0m\u001b[1;33m,\u001b[0m \u001b[0mbatch_size\u001b[0m\u001b[1;33m=\u001b[0m\u001b[1;36m40\u001b[0m\u001b[1;33m,\u001b[0m \u001b[0mvalidation\u001b[0m\u001b[1;33m=\u001b[0m\u001b[1;33m[\u001b[0m\u001b[1;33m]\u001b[0m\u001b[1;33m)\u001b[0m\u001b[1;33m\u001b[0m\u001b[0m\n\u001b[0m",
      "\u001b[1;32m<ipython-input-192-c0add1f94ab0>\u001b[0m in \u001b[0;36mtrain\u001b[1;34m(self, train, train_lang_pairs, batch_size, validation, num_epochs, sess)\u001b[0m\n\u001b[0;32m    100\u001b[0m \u001b[1;33m\u001b[0m\u001b[0m\n\u001b[0;32m    101\u001b[0m \u001b[1;33m\u001b[0m\u001b[0m\n\u001b[1;32m--> 102\u001b[1;33m                     \u001b[0mprint\u001b[0m \u001b[1;33m(\u001b[0m\u001b[0mself\u001b[0m\u001b[1;33m.\u001b[0m\u001b[0mlang_rep\u001b[0m\u001b[1;33m.\u001b[0m\u001b[0meval\u001b[0m\u001b[1;33m(\u001b[0m\u001b[0msession\u001b[0m \u001b[1;33m=\u001b[0m \u001b[0msess\u001b[0m\u001b[1;33m)\u001b[0m\u001b[1;33m)\u001b[0m\u001b[1;33m\u001b[0m\u001b[0m\n\u001b[0m\u001b[0;32m    103\u001b[0m \u001b[1;33m\u001b[0m\u001b[0m\n\u001b[0;32m    104\u001b[0m                     \u001b[0mprint\u001b[0m\u001b[1;33m(\u001b[0m\u001b[0mself\u001b[0m\u001b[1;33m.\u001b[0m\u001b[0mlang_rep\u001b[0m\u001b[1;33m.\u001b[0m\u001b[0mget_shape\u001b[0m\u001b[1;33m(\u001b[0m\u001b[1;33m)\u001b[0m\u001b[1;33m)\u001b[0m\u001b[1;33m\u001b[0m\u001b[0m\n",
      "\u001b[1;32m~\\Anaconda3\\lib\\site-packages\\tensorflow\\python\\framework\\ops.py\u001b[0m in \u001b[0;36meval\u001b[1;34m(self, feed_dict, session)\u001b[0m\n\u001b[0;32m    539\u001b[0m \u001b[1;33m\u001b[0m\u001b[0m\n\u001b[0;32m    540\u001b[0m     \"\"\"\n\u001b[1;32m--> 541\u001b[1;33m     \u001b[1;32mreturn\u001b[0m \u001b[0m_eval_using_default_session\u001b[0m\u001b[1;33m(\u001b[0m\u001b[0mself\u001b[0m\u001b[1;33m,\u001b[0m \u001b[0mfeed_dict\u001b[0m\u001b[1;33m,\u001b[0m \u001b[0mself\u001b[0m\u001b[1;33m.\u001b[0m\u001b[0mgraph\u001b[0m\u001b[1;33m,\u001b[0m \u001b[0msession\u001b[0m\u001b[1;33m)\u001b[0m\u001b[1;33m\u001b[0m\u001b[0m\n\u001b[0m\u001b[0;32m    542\u001b[0m \u001b[1;33m\u001b[0m\u001b[0m\n\u001b[0;32m    543\u001b[0m \u001b[1;33m\u001b[0m\u001b[0m\n",
      "\u001b[1;32m~\\Anaconda3\\lib\\site-packages\\tensorflow\\python\\framework\\ops.py\u001b[0m in \u001b[0;36m_eval_using_default_session\u001b[1;34m(tensors, feed_dict, graph, session)\u001b[0m\n\u001b[0;32m   4080\u001b[0m   \u001b[1;32melse\u001b[0m\u001b[1;33m:\u001b[0m\u001b[1;33m\u001b[0m\u001b[0m\n\u001b[0;32m   4081\u001b[0m     \u001b[1;32mif\u001b[0m \u001b[0msession\u001b[0m\u001b[1;33m.\u001b[0m\u001b[0mgraph\u001b[0m \u001b[1;32mis\u001b[0m \u001b[1;32mnot\u001b[0m \u001b[0mgraph\u001b[0m\u001b[1;33m:\u001b[0m\u001b[1;33m\u001b[0m\u001b[0m\n\u001b[1;32m-> 4082\u001b[1;33m       raise ValueError(\"Cannot use the given session to evaluate tensor: \"\n\u001b[0m\u001b[0;32m   4083\u001b[0m                        \u001b[1;34m\"the tensor's graph is different from the session's \"\u001b[0m\u001b[1;33m\u001b[0m\u001b[0m\n\u001b[0;32m   4084\u001b[0m                        \"graph.\")\n",
      "\u001b[1;31mValueError\u001b[0m: Cannot use the given session to evaluate tensor: the tensor's graph is different from the session's graph."
     ]
    }
   ],
   "source": [
    "mlpm.train(train_data,train_lang_pairs= [\"pt-es\", \"pt-en\", \"en-es\"], batch_size=40, validation=[])"
   ]
  },
  {
   "cell_type": "code",
   "execution_count": 100,
   "metadata": {
    "scrolled": true
   },
   "outputs": [
    {
     "name": "stdout",
     "output_type": "stream",
     "text": [
      "start building graph\n",
      "graph built\n"
     ]
    }
   ],
   "source": [
    "mlpm = model(ckpt_path=\"./ckpt/\",lr=0.01, epochs=1)"
   ]
  },
  {
   "cell_type": "code",
   "execution_count": 158,
   "metadata": {},
   "outputs": [
    {
     "data": {
      "text/plain": [
       "<tf.Tensor 'split_724:1' shape=(1, 5) dtype=float32>"
      ]
     },
     "execution_count": 158,
     "metadata": {},
     "output_type": "execute_result"
    }
   ],
   "source": [
    "mlpm.all_lang_rep['en']"
   ]
  },
  {
   "cell_type": "code",
   "execution_count": 85,
   "metadata": {},
   "outputs": [],
   "source": [
    "train_data_file = \"D:/UCSD/F17/CSE293/data_prep_scripts/train_data.npy\"\n",
    "train_data = np.load(train_data_file)"
   ]
  },
  {
   "cell_type": "code",
   "execution_count": 167,
   "metadata": {},
   "outputs": [
    {
     "ename": "NameError",
     "evalue": "name 'sess' is not defined",
     "output_type": "error",
     "traceback": [
      "\u001b[1;31m---------------------------------------------------------------------------\u001b[0m",
      "\u001b[1;31mNameError\u001b[0m                                 Traceback (most recent call last)",
      "\u001b[1;32m<ipython-input-167-c40b076ef5df>\u001b[0m in \u001b[0;36m<module>\u001b[1;34m()\u001b[0m\n\u001b[1;32m----> 1\u001b[1;33m \u001b[1;32mwith\u001b[0m \u001b[0msess\u001b[0m\u001b[1;33m.\u001b[0m\u001b[0mas_default\u001b[0m\u001b[1;33m(\u001b[0m\u001b[1;33m)\u001b[0m\u001b[1;33m:\u001b[0m\u001b[1;33m\u001b[0m\u001b[0m\n\u001b[0m\u001b[0;32m      2\u001b[0m     \u001b[0mmlpm\u001b[0m\u001b[1;33m.\u001b[0m\u001b[0mall_lang_rep\u001b[0m\u001b[1;33m[\u001b[0m\u001b[1;34m'en'\u001b[0m\u001b[1;33m]\u001b[0m\u001b[1;33m.\u001b[0m\u001b[0meval\u001b[0m\u001b[1;33m(\u001b[0m\u001b[1;33m)\u001b[0m\u001b[1;33m\u001b[0m\u001b[0m\n",
      "\u001b[1;31mNameError\u001b[0m: name 'sess' is not defined"
     ]
    }
   ],
   "source": [
    "with \n",
    "    mlpm.all_lang_rep['en'].eval()"
   ]
  },
  {
   "cell_type": "code",
   "execution_count": null,
   "metadata": {
    "collapsed": true
   },
   "outputs": [],
   "source": [
    "mlpm"
   ]
  }
 ],
 "metadata": {
  "kernelspec": {
   "display_name": "Python 3",
   "language": "python",
   "name": "python3"
  },
  "language_info": {
   "codemirror_mode": {
    "name": "ipython",
    "version": 3
   },
   "file_extension": ".py",
   "mimetype": "text/x-python",
   "name": "python",
   "nbconvert_exporter": "python",
   "pygments_lexer": "ipython3",
   "version": "3.6.2"
  }
 },
 "nbformat": 4,
 "nbformat_minor": 2
}
