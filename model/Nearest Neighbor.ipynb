{
 "cells": [
  {
   "cell_type": "code",
   "execution_count": 2,
   "metadata": {
    "collapsed": true
   },
   "outputs": [],
   "source": [
    "import numpy as np\n",
    "from sklearn.neighbors import NearestNeighbors"
   ]
  },
  {
   "cell_type": "code",
   "execution_count": 7,
   "metadata": {
    "collapsed": true
   },
   "outputs": [],
   "source": [
    "class Nearest_Neighbor(object):\n",
    "    word_embedding_dict = dict()\n",
    "    word_embedding_nn = dict()\n",
    "    def __init__(self, embeddings_dir, lang_list, k_neighbors):\n",
    "        for lang in lang_list:\n",
    "            file_path = embeddings_dir+'/wiki.'+lang + '.vec'\n",
    "            #cur_word_embeddings = self.load_word_embeddings(file_path)\n",
    "            #print (np.shape(cur_word_embeddings))\n",
    "            Nearest_Neighbor.word_embedding_dict[lang] = self.load_word_embeddings(file_path)\n",
    "            Nearest_Neighbor.word_embedding_nn[lang] = NearestNeighbors(\\\n",
    "                            n_neighbors=k_neighbors, algorithm='ball_tree', metric='euclidean').fit(Nearest_Neighbor.word_embedding_dict[lang])\n",
    "\n",
    "    def load_word_embeddings(self, file_path):\n",
    "        res = []\n",
    "        with open(file_path, encoding='utf-8') as f:\n",
    "            next(f)\n",
    "            for line in f:\n",
    "                vec = line.split(' ')\n",
    "                res.append([float(x) for x in vec[1:-1]])\n",
    "        return np.array(res)\n",
    "        \n",
    "    # word_vec is 2D vector list of words.\n",
    "    def knn(self, word_vec, lang, k=10):\n",
    "        #assert input word_vec is 2D \n",
    "        #assert language is one of the keys\n",
    "        #assert k < 10 \n",
    "        dist, index = Nearest_Neighbor.word_embedding_nn[lang].kneighbors(word_vec)\n",
    "        return Nearest_Neighbor.word_embedding_dict[lang][index[:, 0:k]]\n",
    "        \n",
    "        "
   ]
  },
  {
   "cell_type": "code",
   "execution_count": 8,
   "metadata": {
    "collapsed": true,
    "scrolled": true
   },
   "outputs": [],
   "source": [
    "n = Nearest_Neighbor (\"D:/UCSD/F17/CSE293/\", [\"pt\"], 10)"
   ]
  },
  {
   "cell_type": "code",
   "execution_count": 9,
   "metadata": {
    "collapsed": true
   },
   "outputs": [],
   "source": [
    "point = Nearest_Neighbor.word_embedding_dict['pt'][0:10]"
   ]
  },
  {
   "cell_type": "code",
   "execution_count": 11,
   "metadata": {},
   "outputs": [
    {
     "data": {
      "text/plain": [
       "(10, 5, 300)"
      ]
     },
     "execution_count": 11,
     "metadata": {},
     "output_type": "execute_result"
    }
   ],
   "source": [
    "np.shape(n.knn(point, \"pt\", 5))"
   ]
  },
  {
   "cell_type": "code",
   "execution_count": 92,
   "metadata": {
    "collapsed": true
   },
   "outputs": [],
   "source": [
    "_, ind = Nearest_Neighbor.word_embedding_nn['pt'].kneighbors(point)"
   ]
  },
  {
   "cell_type": "code",
   "execution_count": 95,
   "metadata": {},
   "outputs": [
    {
     "data": {
      "text/plain": [
       "array([[[-0.04817  ,  0.11343  , -0.21973  , ..., -0.067736 , -0.11402  ,\n",
       "         -0.01373  ],\n",
       "        [ 0.089803 ,  0.14945  , -0.33631  , ..., -0.062494 , -0.13707  ,\n",
       "         -0.013667 ],\n",
       "        [-0.18972  ,  0.11394  , -0.45579  , ..., -0.01462  , -0.098396 ,\n",
       "         -0.0046672],\n",
       "        [-0.0039102,  0.093942 , -0.027853 , ..., -0.028725 ,  0.0071388,\n",
       "         -0.050082 ],\n",
       "        [-0.092341 , -0.0040929, -0.13306  , ..., -0.030554 , -0.09809  ,\n",
       "         -0.0056632]],\n",
       "\n",
       "       [[ 0.060009 ,  0.19132  , -0.15423  , ...,  0.0018591, -0.099786 ,\n",
       "          0.03574  ],\n",
       "        [ 0.048075 ,  0.25752  , -0.2675   , ...,  0.16466  , -0.26333  ,\n",
       "         -0.011706 ],\n",
       "        [-0.04817  ,  0.11343  , -0.21973  , ..., -0.067736 , -0.11402  ,\n",
       "         -0.01373  ],\n",
       "        [-0.0039102,  0.093942 , -0.027853 , ..., -0.028725 ,  0.0071388,\n",
       "         -0.050082 ],\n",
       "        [ 0.089803 ,  0.14945  , -0.33631  , ..., -0.062494 , -0.13707  ,\n",
       "         -0.013667 ]],\n",
       "\n",
       "       [[ 0.0056808,  0.16748  , -0.13452  , ..., -0.0057852, -0.13772  ,\n",
       "         -0.24153  ],\n",
       "        [-0.087665 ,  0.27061  , -0.14038  , ...,  0.07059  , -0.15936  ,\n",
       "         -0.28379  ],\n",
       "        [ 0.05932  ,  0.1351   , -0.32925  , ...,  0.11716  , -0.11     ,\n",
       "         -0.12831  ],\n",
       "        [-0.121    ,  0.3732   , -0.15052  , ...,  0.0077462, -0.074194 ,\n",
       "         -0.16446  ],\n",
       "        [-0.0068881,  0.28984  , -0.11049  , ...,  0.055418 , -0.06498  ,\n",
       "         -0.17065  ]],\n",
       "\n",
       "       ..., \n",
       "       [[ 0.27388  ,  0.11287  , -0.090481 , ...,  0.032811 , -0.025585 ,\n",
       "         -0.21247  ],\n",
       "        [ 0.30743  ,  0.052854 ,  0.030817 , ...,  0.076141 , -0.21505  ,\n",
       "         -0.10136  ],\n",
       "        [ 0.34813  ,  0.26259  , -0.055667 , ...,  0.12538  , -0.11032  ,\n",
       "         -0.088372 ],\n",
       "        [ 0.036397 ,  0.19747  , -0.037072 , ..., -0.11009  ,  0.071916 ,\n",
       "          0.051848 ],\n",
       "        [ 0.18383  ,  0.21119  , -0.096728 , ...,  0.14481  , -0.094279 ,\n",
       "         -0.1063   ]],\n",
       "\n",
       "       [[-0.037733 ,  0.23578  , -0.25803  , ..., -0.15366  , -0.12198  ,\n",
       "         -0.029653 ],\n",
       "        [-0.024944 ,  0.21006  , -0.25964  , ..., -0.18862  , -0.1402   ,\n",
       "         -0.029363 ],\n",
       "        [-0.04817  ,  0.11343  , -0.21973  , ..., -0.067736 , -0.11402  ,\n",
       "         -0.01373  ],\n",
       "        [ 0.048075 ,  0.25752  , -0.2675   , ...,  0.16466  , -0.26333  ,\n",
       "         -0.011706 ],\n",
       "        [-0.18972  ,  0.11394  , -0.45579  , ..., -0.01462  , -0.098396 ,\n",
       "         -0.0046672]],\n",
       "\n",
       "       [[-0.024944 ,  0.21006  , -0.25964  , ..., -0.18862  , -0.1402   ,\n",
       "         -0.029363 ],\n",
       "        [-0.037733 ,  0.23578  , -0.25803  , ..., -0.15366  , -0.12198  ,\n",
       "         -0.029653 ],\n",
       "        [-0.04817  ,  0.11343  , -0.21973  , ..., -0.067736 , -0.11402  ,\n",
       "         -0.01373  ],\n",
       "        [ 0.048075 ,  0.25752  , -0.2675   , ...,  0.16466  , -0.26333  ,\n",
       "         -0.011706 ],\n",
       "        [ 0.058517 ,  0.06497  ,  0.0058848, ...,  0.048994 , -0.026784 ,\n",
       "         -0.10218  ]]])"
      ]
     },
     "execution_count": 95,
     "metadata": {},
     "output_type": "execute_result"
    }
   ],
   "source": [
    "#Nearest_Neighbor.word_embedding_dict['pt']\n",
    "knn(word_embedding_dict['pt'][ind[:, 0:5]]"
   ]
  },
  {
   "cell_type": "code",
   "execution_count": 43,
   "metadata": {
    "collapsed": true
   },
   "outputs": [],
   "source": [
    "temp = []\n",
    "temp.append([12,34])"
   ]
  },
  {
   "cell_type": "code",
   "execution_count": 44,
   "metadata": {},
   "outputs": [
    {
     "data": {
      "text/plain": [
       "[[12, 34]]"
      ]
     },
     "execution_count": 44,
     "metadata": {},
     "output_type": "execute_result"
    }
   ],
   "source": [
    "temp"
   ]
  },
  {
   "cell_type": "code",
   "execution_count": null,
   "metadata": {
    "collapsed": true
   },
   "outputs": [],
   "source": []
  }
 ],
 "metadata": {
  "kernelspec": {
   "display_name": "Python 3",
   "language": "python",
   "name": "python3"
  },
  "language_info": {
   "codemirror_mode": {
    "name": "ipython",
    "version": 3
   },
   "file_extension": ".py",
   "mimetype": "text/x-python",
   "name": "python",
   "nbconvert_exporter": "python",
   "pygments_lexer": "ipython3",
   "version": "3.6.2"
  }
 },
 "nbformat": 4,
 "nbformat_minor": 2
}
