{
 "cells": [
  {
   "cell_type": "code",
   "execution_count": 2,
   "metadata": {
    "collapsed": true
   },
   "outputs": [],
   "source": [
    "import numpy as np\n",
    "from sklearn.neighbors import NearestNeighbors"
   ]
  },
  {
   "cell_type": "code",
   "execution_count": 7,
   "metadata": {
    "collapsed": true
   },
   "outputs": [],
   "source": [
    "class Nearest_Neighbor(object):\n",
    "    word_embedding_dict = dict()\n",
    "    word_embedding_nn = dict()\n",
    "    def __init__(self, embeddings_dir, lang_list, k_neighbors):\n",
    "        for lang in lang_list:\n",
    "            file_path = embeddings_dir+'/wiki.'+lang + '.vec'\n",
    "            #cur_word_embeddings = self.load_word_embeddings(file_path)\n",
    "            #print (np.shape(cur_word_embeddings))\n",
    "            Nearest_Neighbor.word_embedding_dict[lang] = self.load_word_embeddings(file_path)\n",
    "            Nearest_Neighbor.word_embedding_nn[lang] = NearestNeighbors(\\\n",
    "                            n_neighbors=k_neighbors, algorithm='ball_tree', metric='euclidean').fit(Nearest_Neighbor.word_embedding_dict[lang])\n",
    "\n",
    "    def load_word_embeddings(self, file_path):\n",
    "        res = []\n",
    "        with open(file_path, encoding='utf-8') as f:\n",
    "            next(f)\n",
    "            for line in f:\n",
    "                vec = line.split(' ')\n",
    "                res.append([float(x) for x in vec[1:-1]])\n",
    "        return np.array(res)\n",
    "        \n",
    "    # word_vec is 2D vector list of words.\n",
    "    def knn(self, word_vec, lang, k=10):\n",
    "        #assert input word_vec is 2D \n",
    "        #assert language is one of the keys\n",
    "        #assert k < 10 \n",
    "        dist, index = Nearest_Neighbor.word_embedding_nn[lang].kneighbors(word_vec)\n",
    "        return Nearest_Neighbor.word_embedding_dict[lang][index[:, 0:k]]\n",
    "        \n",
    "        "
   ]
  },
  {
   "cell_type": "markdown",
   "metadata": {
    "collapsed": true,
    "scrolled": true
   },
   "source": [
    "### Usage\n",
    "n = Nearest_Neighbor (\"D:/UCSD/F17/CSE293/\", [\"pt\"], 10)\n",
    "point = Nearest_Neighbor.word_embedding_dict['pt'][0:10]\n",
    "np.shape(n.knn(point, \"pt\", 5))"
   ]
  },
  {
   "cell_type": "code",
   "execution_count": null,
   "metadata": {
    "collapsed": true
   },
   "outputs": [],
   "source": []
  }
 ],
 "metadata": {
  "kernelspec": {
   "display_name": "Python 3",
   "language": "python",
   "name": "python3"
  },
  "language_info": {
   "codemirror_mode": {
    "name": "ipython",
    "version": 3
   },
   "file_extension": ".py",
   "mimetype": "text/x-python",
   "name": "python",
   "nbconvert_exporter": "python",
   "pygments_lexer": "ipython3",
   "version": "3.6.2"
  }
 },
 "nbformat": 4,
 "nbformat_minor": 2
}
